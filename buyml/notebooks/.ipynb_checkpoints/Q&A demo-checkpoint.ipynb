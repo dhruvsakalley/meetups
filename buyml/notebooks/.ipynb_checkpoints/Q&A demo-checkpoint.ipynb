{
 "cells": [
  {
   "cell_type": "markdown",
   "metadata": {},
   "source": [
    "# Q&A Demo\n",
    "Here we are demoing a service that was created for the FAQ extracted from the IRS website"
   ]
  },
  {
   "cell_type": "code",
   "execution_count": 39,
   "metadata": {},
   "outputs": [],
   "source": [
    "import http.client, base64, requests, json\n",
    "import numpy as np\n",
    "from IPython.core.display import display, HTML"
   ]
  },
  {
   "cell_type": "code",
   "execution_count": 40,
   "metadata": {},
   "outputs": [],
   "source": [
    "subscription_key = '9ae23c2612aa4b73a1a63f101b06f3ca' # Change to be your API key.\n",
    "uri_base = 'https://westus.api.cognitive.microsoft.com/qnamaker/v2.0' # Change to match your region.\n",
    "qna_endpoint =  r'/knowledgebases/cfe481c7-1951-44f4-8038-09e634a26e1a/generateAnswer'\n",
    "headers = {\n",
    "    'Content-Type': 'application/json',\n",
    "    'Ocp-Apim-Subscription-Key': subscription_key,\n",
    "}\n",
    "params = {}"
   ]
  },
  {
   "cell_type": "markdown",
   "metadata": {},
   "source": [
    "## Address change proximal question..."
   ]
  },
  {
   "cell_type": "code",
   "execution_count": 7,
   "metadata": {},
   "outputs": [
    {
     "name": "stdout",
     "output_type": "stream",
     "text": [
      "Response:\n",
      "{\n",
      "  \"answers\": [\n",
      "    {\n",
      "      \"answer\": \"There are several ways to tell us your address has changed:\\r\\nMethods to Change Your AddressMethodActionIRS formUse [Form 8822](/forms-pubs/about-form-8822-change-of-address &quot;Link to Form 8822&quot;), Change of Address or [Form 8822-B](/forms-pubs/about-form-8822b &quot;Link to About Form 8822-B&quot;), Change of Address or Responsible Party - BusinessTax returnUse your new address when you fileWritten statement\\r\\n\\r\\nSend us a signed written statement with your:\\r\\n\\r\\n*   full name\\r\\n*   old address\\r\\n*   new address\\r\\n*   social security number, ITIN, or EIN\\r\\n\\r\\n Mail your signed statement to the [address](/filing/where-to-file-paper-tax-returns-with-or-without-a-payment &quot;Link to Where to File Paper Tax Returns With or Without a Payment&quot;) where you filed your last return.\\r\\nOral notification\\r\\n\\r\\nTell us in person or by telephone. We&#39;ll need you to verify your identity and the address we have on file for you. Please have ready:\\r\\n\\r\\n*   your full name\\r\\n*   your address\\r\\n*   your date of birth\\r\\n*   your social security number, ITIN or EIN\\r\\n\\r\\nIf you filed a joint return, and are still residing with your spouse, both you and your spouse should sign the form or statement.\\r\\n\\r\\nIf you filed a joint return and you now have separate addresses, each of you should notify us of your new, separate address.\\r\\n\\r\\nAuthorized representatives filing a form or written statement to change an address for a taxpayer must attach a copy of their power of attorney or [Form 2848](/forms-pubs/about-form-2848-power-of-attorney-and-declaration-of-representative &quot;Link to About Form 2848&quot;), Power of Attorney and Declaration of Representative. Unauthorized third parties can&#39;t change a taxpayer&#39;s address.\\r\\n\\r\\nChanges of address through the U.S. Postal Service (USPS) may update your address of record on file with us based on what they retain in their National Change of Address (NCOA) database. However, even when you notify the USPS, not all post offices forward government checks, so you should still notify us.\\r\\n\\r\\nFor changes of address relating to an employment tax return, we issue confirmation notices (Notices [148A](/individuals/understanding-your-cp148a-notice &quot;Link to Understanding Your CP148A Notice&quot;) and [148B](/individuals/understanding-your-cp148b-notice &quot;Link to Understanding Your CP148B Notice&quot;)) for the change to both the new and former address.\\r\\n\\r\\nIt can take four to six weeks for a change of address request to fully process. #### Additional Information: \\r\\n\\r\\n*   [Revenue Procedure 2010-16](https://www.irs.gov/pub/irs-utl/rp-10-16.pdf)\\r\\n\\r\\n\\r\\n#### Subcategory:&#160; [Address Changes](https://www.irs.gov/faqs/irs-procedures/address-changes)\", \n",
      "      \"questions\": [\n",
      "        \"How do I notify the IRS my address has changed?\"\n",
      "      ], \n",
      "      \"score\": 63.79223336279392\n",
      "    }\n",
      "  ]\n",
      "}\n"
     ]
    }
   ],
   "source": [
    "body = {\"question\":\"address change?\"}\n",
    "try:\n",
    "    # Execute the REST API call and get the response.\n",
    "    response = requests.request('POST', uri_base + qna_endpoint, json=body, data=None, headers=headers, params=params)\n",
    "\n",
    "    print ('Response:')\n",
    "    parsed = json.loads(response.text)\n",
    "    print (json.dumps(parsed, sort_keys=True, indent=2))\n",
    "\n",
    "except Exception as e:\n",
    "    print('Error:')\n",
    "    print(e)\n",
    "    \n"
   ]
  },
  {
   "cell_type": "markdown",
   "metadata": {},
   "source": [
    "## Any Change this year proximal question..."
   ]
  },
  {
   "cell_type": "code",
   "execution_count": 43,
   "metadata": {},
   "outputs": [
    {
     "name": "stdout",
     "output_type": "stream",
     "text": [
      "Response:\n"
     ]
    },
    {
     "data": {
      "text/html": [
       "<div style=\"background-color:lightblue\">"
      ],
      "text/plain": [
       "<IPython.core.display.HTML object>"
      ]
     },
     "metadata": {},
     "output_type": "display_data"
    },
    {
     "data": {
      "text/html": [
       "<h3>What are the tax changes for this year?</h3>"
      ],
      "text/plain": [
       "<IPython.core.display.HTML object>"
      ]
     },
     "metadata": {},
     "output_type": "display_data"
    },
    {
     "data": {
      "text/html": [
       "<p><b>98.0002858727</b></p>"
      ],
      "text/plain": [
       "<IPython.core.display.HTML object>"
      ]
     },
     "metadata": {},
     "output_type": "display_data"
    },
    {
     "data": {
      "text/html": [
       "<p>For highlights of the tax changes for the current tax year, refer to the &quot;What&#39;s New&quot; section of the following:\r\n",
       "\r\n",
       "Individuals - [Instructions for Form 1040](/forms-pubs/about-form-1040 &quot;About Form 1040&quot;), [Instructions for Form 1040A](/forms-pubs/about-form-1040a &quot;About Form 1040A&quot;), or [Instructions for Form 1040EZ](/forms-pubs/about-form-1040ez &quot;About Form 1040EZ&quot;). Businesses - [Publication 15 (Circular E)](/forms-pubs/about-publication-15 &quot;About Publication 15&quot;), Employer&#39;s Tax Guide, or the instructions of your current business tax forms. #### Additional Information: #### Subcategory: \r\n",
       "\r\n",
       "[General Procedural Questions](https://www.irs.gov/faqs/irs-procedures/general-procedural-questions)</p>"
      ],
      "text/plain": [
       "<IPython.core.display.HTML object>"
      ]
     },
     "metadata": {},
     "output_type": "display_data"
    },
    {
     "data": {
      "text/html": [
       "</div>"
      ],
      "text/plain": [
       "<IPython.core.display.HTML object>"
      ]
     },
     "metadata": {},
     "output_type": "display_data"
    }
   ],
   "source": [
    "body = {\"question\":\"any change this year?\"}\n",
    "try:\n",
    "    # Execute the REST API call and get the response.\n",
    "    response = requests.request('POST', uri_base + qna_endpoint, json=body, data=None, headers=headers, params=params)\n",
    "\n",
    "    print ('Response:')\n",
    "    parsed = json.loads(response.text)\n",
    "    data = (json.dumps(parsed, sort_keys=True, indent=2))\n",
    "    datadict = json.loads(data)\n",
    "    \n",
    "    display(HTML('<div style=\"background-color:lightblue\">'))\n",
    "    display(HTML('<h3>'+datadict[\"answers\"][0][\"questions\"][0]+'</h3>'))\n",
    "    display(HTML('<p><b>'+str(datadict[\"answers\"][0][\"score\"])+'</b></p>'))\n",
    "    display(HTML('<p>'+datadict[\"answers\"][0][\"answer\"]+'</p>'))\n",
    "    display(HTML('</div>'))\n",
    "except Exception as e:\n",
    "    print('Error:')\n",
    "    print(e)\n",
    "    \n"
   ]
  }
 ],
 "metadata": {
  "kernelspec": {
   "display_name": "Python 2",
   "language": "python",
   "name": "python2"
  }
 },
 "nbformat": 4,
 "nbformat_minor": 2
}
