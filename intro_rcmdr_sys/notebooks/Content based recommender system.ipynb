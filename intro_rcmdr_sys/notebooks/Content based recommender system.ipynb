{
 "cells": [
  {
   "cell_type": "markdown",
   "metadata": {},
   "source": [
    "<h1>A simple content based recommender system</h1><br>\n",
    "<h2>Boston housing dataset</h2>\n",
    "\n",
    "Attribute Information:\n",
    "\n",
    "    1. CRIM      per capita crime rate by town\n",
    "    2. ZN        proportion of residential land zoned for lots over \n",
    "                 25,000 sq.ft.\n",
    "    3. INDUS     proportion of non-retail business acres per town\n",
    "    4. CHAS      Charles River dummy variable (= 1 if tract bounds \n",
    "                 river; 0 otherwise)\n",
    "    5. NOX       nitric oxides concentration (parts per 10 million)\n",
    "    6. RM        average number of rooms per dwelling\n",
    "    7. AGE       proportion of owner-occupied units built prior to 1940\n",
    "    8. DIS       weighted distances to five Boston employment centres\n",
    "    9. RAD       index of accessibility to radial highways\n",
    "    10. TAX      full-value property-tax rate per USD 10,000 \n",
    "    11. PTRATIO  pupil-teacher ratio by town\n",
    "    12. B        1000(Bk - 0.63)^2 where Bk is the proportion of blacks \n",
    "                 by town\n",
    "    13. LSTAT    % lower status of the population\n",
    "    14. MEDV     Median value of owner-occupied homes in USD 1000's = Target"
   ]
  },
  {
   "cell_type": "code",
   "execution_count": null,
   "metadata": {
    "collapsed": true
   },
   "outputs": [],
   "source": [
    "from sklearn import datasets\n",
    "from sklearn.metrics.pairwise import cosine_similarity\n",
    "import numpy as np\n",
    "from sklearn.preprocessing import normalize\n",
    "\n",
    "boston = datasets.load_boston()"
   ]
  },
  {
   "cell_type": "markdown",
   "metadata": {},
   "source": [
    "Let's see how the data looks like"
   ]
  },
  {
   "cell_type": "code",
   "execution_count": 110,
   "metadata": {},
   "outputs": [
    {
     "name": "stdout",
     "output_type": "stream",
     "text": [
      "Feature Names:\n",
      " ['CRIM' 'ZN' 'INDUS' 'CHAS' 'NOX' 'RM' 'AGE' 'DIS' 'RAD' 'TAX' 'PTRATIO'\n",
      " 'B' 'LSTAT']\n",
      "Feature 0 :\n",
      " [  6.32000000e-03   1.80000000e+01   2.31000000e+00   0.00000000e+00\n",
      "   5.38000000e-01   6.57500000e+00   6.52000000e+01   4.09000000e+00\n",
      "   1.00000000e+00   2.96000000e+02   1.53000000e+01   3.96900000e+02\n",
      "   4.98000000e+00]\n",
      "Median value of owner-occupied homes in USD 1000's = Target [0]\n",
      "USD.  24000.0\n"
     ]
    }
   ],
   "source": [
    "print(\"Feature Names:\\n\", boston.feature_names)\n",
    "print(\"Feature 0 :\\n\", boston.data[0])\n",
    "print(\"Median value of owner-occupied homes in USD 1000's = Target [0]\\nUSD. \", boston.target[0]*1000)"
   ]
  },
  {
   "cell_type": "markdown",
   "metadata": {},
   "source": [
    "<h1>Let's define our recommendation algorithm</h1>"
   ]
  },
  {
   "cell_type": "code",
   "execution_count": 125,
   "metadata": {},
   "outputs": [],
   "source": [
    "def recommend_by_features(data, targets, sample_id, top_n):\n",
    "    '''An example for simplest content based recommendation'''\n",
    "    \n",
    "    #Initialize an array\n",
    "    similarity_scores = np.zeros(len(data))\n",
    "    \n",
    "    #Calculate similarities between samples based on their features\n",
    "    for row in range(0,len(data)-1):\n",
    "        similarity_scores[row] = cosine_similarity([data[sample_id,:]],[data[row,:]])\n",
    "        \n",
    "    #Select top n features based on the sorted similarity scores\n",
    "    selected_features = data[np.argsort(-similarity_scores),:][1:top_n+1,:]\n",
    "    #Select top n target labels based on the sorted similarity scores\n",
    "    selected_targets = targets[np.argsort(-similarity_scores)][1:top_n+1]\n",
    "    \n",
    "    #Print sorted similarities\n",
    "    print(\"Closest similarity scores\\n\", similarity_scores[np.argsort(-similarity_scores)][1:top_n+1])\n",
    "    #Print sorted similarity indices\n",
    "    print(\"Closest similarity indices\\n\", np.argsort(-similarity_scores)[1:top_n+1],\"\\n\\n\")\n",
    "\n",
    "    print(\"Recommendations: \")\n",
    "    print(\"Median Value of similar houses\\n\", selected_targets*1000)\n",
    "    #print(\"Features: \",selected_features)\n",
    "    return"
   ]
  },
  {
   "cell_type": "markdown",
   "metadata": {},
   "source": [
    "That's it! all we need is a sample Id and call our content based recommnder system. Our problem statement will read as such:<br> <b><em>Find me the median values for top n houses similar to a given house</em></b>"
   ]
  },
  {
   "cell_type": "code",
   "execution_count": 126,
   "metadata": {},
   "outputs": [
    {
     "name": "stdout",
     "output_type": "stream",
     "text": [
      "Median values of sample house: 24700.0 \n",
      "\n",
      "\n",
      "Closest similarity scores\n",
      " [ 0.99991518  0.99990154  0.99856734  0.99835476  0.998345    0.99823438\n",
      "  0.99821168  0.99789822  0.99751009  0.99742009]\n",
      "Closest similarity indices\n",
      " [ 42  41 271  52  53  45  46 335 338 333] \n",
      "\n",
      "\n",
      "Recommendations: \n",
      "Median Value of similar houses\n",
      " [ 25300.  26600.  25200.  25000.  23400.  19300.  20000.  21100.  20600.\n",
      "  22200.]\n"
     ]
    }
   ],
   "source": [
    "sample_id = 43\n",
    "top_n = 10\n",
    "print(\"Median values of sample house:\",boston.target[sample_id]*1000,\"\\n\\n\")\n",
    "#find me the median values for top n houses similar to a given house\n",
    "recommend_by_features(boston.data, boston.target, sample_id, top_n)"
   ]
  },
  {
   "cell_type": "markdown",
   "metadata": {},
   "source": [
    "\n",
    "<h2>Use-case 1:</h2><br>\n",
    "<h3>Title: Based on the topics you selected here are some of the people who should talk to!</h3><br>\n",
    "Domain Knowledge: People who share common topics are likely to be similar and hence are likely to form friendship bonds. <br>\n",
    "Objective: Recommend friends for a given member. <em>(User based filtering, User-User recommendation)</em><br>\n",
    "\n",
    "\n",
    "<h2>Use-case 2:</h2><br>\n",
    "<h3>Title:?</h3><br>\n",
    "Domain Knowledge: People who share common topics of interest with most members of a group they are not a part of, might be interested in the group.<br>\n",
    "Objective: Recommend new groups for a member. <em>(User based filtering, User-Item recommendation)</em><br>\n",
    "\n",
    "\n",
    "<h2>Use-case 3:</h2><br>\n",
    "<h3>Title:?</h3><br>\n",
    "Domain Knowledge: Groups that share common topics with other groups that a member is not a part of, might be of interest to the member.<br>\n",
    "Objective: Recommend new groups for a member. <em>(Item based filtering, User-Item recommendation)</em><br>\n",
    "\n",
    "\n",
    "<h2>Question: What is common here?</h2><br>\n",
    "Answer: Features are knowm, well defined, and densely packed.\n"
   ]
  },
  {
   "cell_type": "code",
   "execution_count": null,
   "metadata": {},
   "outputs": [],
   "source": []
  }
 ],
 "metadata": {
  "kernelspec": {
   "display_name": "Python 3",
   "language": "python",
   "name": "python3"
  },
  "language_info": {
   "codemirror_mode": {
    "name": "ipython",
    "version": 3
   },
   "file_extension": ".py",
   "mimetype": "text/x-python",
   "name": "python",
   "nbconvert_exporter": "python",
   "pygments_lexer": "ipython3",
   "version": "3.5.2"
  }
 },
 "nbformat": 4,
 "nbformat_minor": 2
}
