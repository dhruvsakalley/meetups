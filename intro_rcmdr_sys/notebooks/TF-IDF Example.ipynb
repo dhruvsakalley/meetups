{
 "cells": [
  {
   "cell_type": "markdown",
   "metadata": {},
   "source": [
    "<h1>Content based recommender system for textual data</h1>\n",
    "\n",
    "<br>\n",
    "Let's use Term Frequency inverse document frequency (TF-IDF) to build a simple recommender system.\n",
    "Here TF-IDF is being used as a feature generator and then cosine similarity is being used for calculating proximity.\n",
    "\n",
    "<ul>\n",
    "<li>https://docs.scipy.org/doc/scipy-0.19.0/reference/generated/scipy.spatial.distance.cdist.html</li>\n",
    "<li>http://scikit-learn.org/stable/modules/generated/sklearn.feature_extraction.text.TfidfVectorizer.html</li>\n",
    "<li>https://docs.scipy.org/doc/numpy/reference/generated/numpy.argsort.html</li>\n",
    "</ul>"
   ]
  },
  {
   "cell_type": "code",
   "execution_count": 1,
   "metadata": {},
   "outputs": [
    {
     "name": "stdout",
     "output_type": "stream",
     "text": [
      "Query String: Today is a rainy day\n",
      "\n",
      "Spacial Distances:\n",
      "array([[ 0.4901861 ,  1.        ,  1.        ,  1.        ,  1.        ,\n",
      "         1.        ,  1.        ,  0.77779568]])\n",
      "Recommendations:\n",
      "['A beer a day keeps beautiful girls at bay!' 'Weather is bright and sunny'\n",
      " 'The boat is ready for sailing']\n"
     ]
    }
   ],
   "source": [
    "import pandas as pd\n",
    "import time\n",
    "from sklearn.feature_extraction.text import TfidfVectorizer\n",
    "from sklearn.metrics.pairwise import linear_kernel\n",
    "from scipy.spatial.distance import cdist\n",
    "import numpy as np\n",
    "\n",
    "corpus =[\n",
    "    \"This is an awesome day!\",\n",
    "    \"Weather is bright and sunny\",\n",
    "    \"The boat is ready for sailing\",\n",
    "    \"Ready the arms\",\n",
    "    \"Life is beautiful\",\n",
    "    \"babies are beautiful and full of life\",\n",
    "    \"Sunny-side omlets\",\n",
    "    \"A beer a day keeps beautiful girls at bay!\"\n",
    "]\n",
    "\n",
    "def print_similar_docs(query, documents, top_n):\n",
    "    \n",
    "    vec = TfidfVectorizer(\n",
    "        analyzer='word',\n",
    "        ngram_range=(1, 3),\n",
    "        min_df=0,\n",
    "        stop_words='english'\n",
    "    )\n",
    "    \n",
    "    doclist = np.array(documents)\n",
    "    #Calculate the TF-IDF\n",
    "    doclist_tfidf = vec.fit_transform(doclist).toarray()    \n",
    "    query_tfidf = vec.transform([query]).toarray()\n",
    "    spatial_distances = cdist(query_tfidf, doclist_tfidf, 'cosine')\n",
    "    rec_idx = spatial_distances.argsort()\n",
    "    \n",
    "    print('Query String: %s\\n' % query)\n",
    "    print('Spacial Distances:')\n",
    "    print(repr(spatial_distances))\n",
    "    print('Recommendations:')\n",
    "    print(doclist[rec_idx[0][1:top_n+1]])\n",
    "    return\n",
    "\n",
    "print_similar_docs(\"Today is a rainy day\", corpus, 3)\n",
    "\n"
   ]
  }
 ],
 "metadata": {
  "kernelspec": {
   "display_name": "Python 3",
   "language": "python",
   "name": "python3"
  },
  "language_info": {
   "codemirror_mode": {
    "name": "ipython",
    "version": 3
   },
   "file_extension": ".py",
   "mimetype": "text/x-python",
   "name": "python",
   "nbconvert_exporter": "python",
   "pygments_lexer": "ipython3",
   "version": "3.5.2"
  }
 },
 "nbformat": 4,
 "nbformat_minor": 2
}
